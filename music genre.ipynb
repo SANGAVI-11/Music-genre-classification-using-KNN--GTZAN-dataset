{
 "cells": [
  {
   "cell_type": "markdown",
   "id": "02993583",
   "metadata": {},
   "source": [
    "# Music Genre Classification Using KNN\n",
    "\n",
    "### Team Members:\n",
    "### 1. Pravin Raj A K\n",
    "### 2. Sai Sangavi C\n",
    "### 3. Sai Varsha R\n",
    "### 4. Shreya Sanghamitra\n",
    "\n",
    "### Abstract :\n",
    "\n",
    "Using GTZAN dataset of 1000 audio file we have done a audio processing model with KNN classifier to distinguish the genre (disco,hip-hop,pop,etc.) of a audio file given. KNN simply uses the distance-based method to find the K number of similar neigbhours to a new data and the class in which the majority of neighbours lies, it results in that class as an output. \n",
    "\n",
    "### Implementation :\n",
    "Importing the required libraries"
   ]
  },
  {
   "cell_type": "code",
   "execution_count": 294,
   "id": "268219f8",
   "metadata": {},
   "outputs": [],
   "source": [
    "#used to extract the audio feature MFCC\n",
    "from python_speech_features import mfcc  \n",
    "\n",
    "#used to handle the wav format audio file\n",
    "from scipy.io import wavfile as wav  \n",
    "\n",
    "#used to working with arrays and other few operations in the data\n",
    "import numpy as np\n",
    "\n",
    "#used for working with directory\n",
    "import os\n",
    "\n",
    "#used to working with the object structure\n",
    "import pickle\n",
    "\n",
    "#used to generate random values\n",
    "import random \n",
    "\n",
    "#used to working with functions \n",
    "import operator\n",
    "\n",
    "#used to working withn math operations\n",
    "import math\n",
    "\n",
    "#used to calculate the accuracy and \n",
    "#to generate the confusion matrix of the model to check how well it performed\n",
    "from sklearn.metrics import confusion_matrix,accuracy_score\n",
    "\n",
    "#used for plotting\n",
    "import seaborn as sns\n",
    "import matplotlib.pyplot as plt"
   ]
  },
  {
   "cell_type": "markdown",
   "id": "02c2e8b1",
   "metadata": {},
   "source": [
    "### Feature Extraction and Pre - Processing the Data\n",
    "\n",
    "Intially we are describing our data path"
   ]
  },
  {
   "cell_type": "code",
   "execution_count": 100,
   "id": "3b4eb748",
   "metadata": {},
   "outputs": [],
   "source": [
    "directory = r'C:\\Users\\Pravin\\Downloads\\Compressed\\archive_3\\Data\\genres_original'"
   ]
  },
  {
   "cell_type": "markdown",
   "id": "9dcfaaa8",
   "metadata": {},
   "source": [
    "Here, we are extracting the MFCC (Mel-frequency cepstral coefficients) feature for all the audio file in the GTZAN dataset were it helps us to get the all important feature of that audio file in the form of MFCC. Using python speech feature library we can extract the MFCC were this will divide our audio into small - small frames . After dividing into frames it will extract different frequencies from each frame ."
   ]
  },
  {
   "cell_type": "code",
   "execution_count": null,
   "id": "310b50c8",
   "metadata": {},
   "outputs": [],
   "source": [
    " #creating a dat file to store our extracted feature\n",
    "f = open(\"my.dat\", \"wb\")\n",
    "\n",
    "i = 0\n",
    "\n",
    "#Accessing all the folder in our directory\n",
    "for folder in os.listdir(directory): \n",
    "    \n",
    "    i += 1\n",
    "    \n",
    "    if i == 11:\n",
    "        \n",
    "        break\n",
    "        \n",
    "    #Accessing all the audio file the particular folder to extract its feature\n",
    "    for file in os.listdir(directory+\"\\\\\"+folder):\n",
    "        \n",
    "        try:\n",
    "            \n",
    "            (rate, sig) = wav.read(directory+\"/\"+folder+\"/\"+file)\n",
    "            \n",
    "            #extracting the MFCC feature from the audio file loaded\n",
    "            \n",
    "            mfcc_feat = mfcc(sig, rate, winlen = 0.020, appendEnergy=False)\n",
    "            \n",
    "            covariance = np.cov(np.matrix.transpose(mfcc_feat))\n",
    "            \n",
    "            mean_matrix = mfcc_feat.mean(0)\n",
    "            \n",
    "            feature = (mean_matrix, covariance, i)\n",
    "            \n",
    "            #dumping the extracted feature in the dat file\n",
    "            pickle.dump(feature, f)\n",
    "            \n",
    "        except Exception as e:\n",
    "            print(\"Got an exception: \", e, 'in folder: ', folder, ' filename: ', file)\n",
    "f.close()"
   ]
  },
  {
   "cell_type": "markdown",
   "id": "7613076e",
   "metadata": {},
   "source": [
    "### Splitting the dataset into train and test"
   ]
  },
  {
   "cell_type": "code",
   "execution_count": 260,
   "id": "c55eb3be",
   "metadata": {},
   "outputs": [
    {
     "data": {
      "text/plain": [
       "((805, 3), (194, 3))"
      ]
     },
     "execution_count": 260,
     "metadata": {},
     "output_type": "execute_result"
    }
   ],
   "source": [
    "dataset = []\n",
    "\n",
    "def loadDataset(filename, split, trset, teset):\n",
    "    \n",
    "    with open('my.dat','rb') as f:\n",
    "        \n",
    "        while True:\n",
    "            \n",
    "            try:\n",
    "                \n",
    "                dataset.append(pickle.load(f))\n",
    "                \n",
    "            except EOFError:\n",
    "                \n",
    "                f.close()\n",
    "                \n",
    "                break\n",
    "                \n",
    "    for x in range(len(dataset)):\n",
    "        \n",
    "        if random.random() < split:\n",
    "            \n",
    "            trset.append(dataset[x])\n",
    "            \n",
    "        else:\n",
    "            \n",
    "            teset.append(dataset[x])\n",
    "\n",
    "trainingSet = []\n",
    "\n",
    "testSet = []\n",
    "\n",
    "#calling the function loaddataset to split the data\n",
    "#inside the function we pass the dataset file , spltting percentage, \n",
    "#train and test list to store the spllited data\n",
    "loadDataset('my.dat', 0.81 , trainingSet, testSet)\n",
    "\n",
    "np.shape(trainingSet),np.shape(testSet)\n"
   ]
  },
  {
   "cell_type": "markdown",
   "id": "d8899086",
   "metadata": {},
   "source": [
    "### KNN Classifier \n",
    "\n",
    "Here we have created a function called getNeighbors were it will find the distance of a data point with every other point in training data and then we find all the nearest K neighbours and return all neighbours.\n",
    "\n"
   ]
  },
  {
   "cell_type": "code",
   "execution_count": 261,
   "id": "a30717c3",
   "metadata": {},
   "outputs": [],
   "source": [
    "#function to get distance between feature vectors and find neighbors\n",
    "\n",
    "def getNeighbors(trainingset, instance, k):\n",
    "    \n",
    "    distances = []\n",
    "    \n",
    "    for x in range(len(trainingset)):\n",
    "        \n",
    "        dist = distance(trainingset[x], instance, k) + distance(instance,trainingset[x],k)\n",
    "        \n",
    "        distances.append((trainingset[x][2], dist))\n",
    "        \n",
    "    distances.sort(key=operator.itemgetter(1))\n",
    "    \n",
    "    neighbors = []\n",
    "    \n",
    "    for x in range(k):\n",
    "        \n",
    "        neighbors.append(distances[x][0])\n",
    "        \n",
    "    return neighbors"
   ]
  },
  {
   "cell_type": "markdown",
   "id": "4e6cbe0e",
   "metadata": {},
   "source": [
    "Here we have a function called distance which will calculate the distance between the two points and return it to the function getNeighbors"
   ]
  },
  {
   "cell_type": "code",
   "execution_count": 262,
   "id": "eb934bc1",
   "metadata": {},
   "outputs": [],
   "source": [
    "#function to calculate the distance \n",
    "\n",
    "def distance(instance1, instance2, k):\n",
    "    \n",
    "    distance = 0\n",
    "    \n",
    "    mm1 = instance1[0]\n",
    "    \n",
    "    cm1 = instance1[1]\n",
    "    \n",
    "    mm2 = instance2[0]\n",
    "    \n",
    "    cm2 = instance2[1]\n",
    "    \n",
    "    distance = np.trace(np.dot(np.linalg.inv(cm2), cm1))\n",
    "    \n",
    "    distance += (np.dot(np.dot((mm2-mm1).transpose(), np.linalg.inv(cm2)), mm2-mm1))\n",
    "    \n",
    "    distance += np.log(np.linalg.det(cm2)) - np.log(np.linalg.det(cm1))\n",
    "    \n",
    "    distance -= k\n",
    "    \n",
    "    return distance"
   ]
  },
  {
   "cell_type": "markdown",
   "id": "fe77fa18",
   "metadata": {},
   "source": [
    "After finding the list of k neighbours from getNeighbors funtion, we need to findout a class that has the maximum neighbors count. So, we declare a fucntion nearestclass which will create a dictionary that will store the class and its respective count of neighbours. After creating the frequency map we sort the map in descending order based on neighbours count and return the first class."
   ]
  },
  {
   "cell_type": "code",
   "execution_count": 263,
   "id": "fdb7339e",
   "metadata": {},
   "outputs": [],
   "source": [
    "#function to identify the class\n",
    "\n",
    "def nearestclass(neighbors):\n",
    "    \n",
    "    classVote = {}\n",
    "    \n",
    "    for x in range(len(neighbors)):\n",
    "        \n",
    "        response = neighbors[x]\n",
    "        \n",
    "        if response in classVote:\n",
    "            \n",
    "            classVote[response] += 1\n",
    "            \n",
    "        else:\n",
    "            \n",
    "            classVote[response] = 1\n",
    "            \n",
    "    sorter = sorted(classVote.items(), key=operator.itemgetter(1), reverse=True)\n",
    "    \n",
    "    return sorter[0][0]"
   ]
  },
  {
   "cell_type": "markdown",
   "id": "6777484f",
   "metadata": {},
   "source": [
    "### Testing Our Model"
   ]
  },
  {
   "cell_type": "code",
   "execution_count": 266,
   "id": "68899db0",
   "metadata": {},
   "outputs": [],
   "source": [
    "#Prediction the test data using KNN and \n",
    "#then we are storing the predicted classes \n",
    "\n",
    "length = len(testSet)\n",
    "\n",
    "predictions = []\n",
    "\n",
    "for x in range(length):\n",
    "    \n",
    "    predictions.append(nearestclass(getNeighbors(trainingSet, testSet[x], 5)))"
   ]
  },
  {
   "cell_type": "markdown",
   "id": "60911cb3",
   "metadata": {},
   "source": [
    "### Evaluating our model"
   ]
  },
  {
   "cell_type": "code",
   "execution_count": 287,
   "id": "88e5e229",
   "metadata": {},
   "outputs": [
    {
     "name": "stdout",
     "output_type": "stream",
     "text": [
      "Accuracy of our model : 74.74 %\n"
     ]
    }
   ],
   "source": [
    "#Extracting the true labels of the test data\n",
    "true_labels=[]\n",
    "\n",
    "for i in range(len(testSet)):\n",
    "    \n",
    "    true_labels.append(testSet[i][-1])\n",
    "    \n",
    "#calculating the accuracy \n",
    "\n",
    "acc = '{0:.4g}'.format(accuracy_score(true_labels,predictions)*100)\n",
    "\n",
    "print(f'Accuracy of our model : {acc} %')"
   ]
  },
  {
   "cell_type": "code",
   "execution_count": 311,
   "id": "980002e9",
   "metadata": {},
   "outputs": [
    {
     "name": "stdout",
     "output_type": "stream",
     "text": [
      "Labels of each class\n",
      "\n",
      "1 = blues\n",
      "2 = classical\n",
      "3 = country\n",
      "4 = disco\n",
      "5 = hiphop\n",
      "6 = jazz\n",
      "7 = metal\n",
      "8 = pop\n",
      "9 = reggae\n",
      "10 = rock\n"
     ]
    },
    {
     "data": {
      "image/png": "[encoded data removed]",
      "text/plain": [
       "<Figure size 432x288 with 2 Axes>"
      ]
     },
     "metadata": {
      "needs_background": "light"
     },
     "output_type": "display_data"
    },
    {
     "name": "stdout",
     "output_type": "stream",
     "text": [
      "From the test audio collection of 194, our KNN model predicted 145 music genre correctly\n"
     ]
    }
   ],
   "source": [
    "print('Labels of each class\\n')\n",
    "\n",
    "label=['blues','classical','country','disco','hiphop','jazz','metal','pop','reggae','rock']\n",
    "\n",
    "for i in range(1,11):\n",
    "    \n",
    "    print(i,'=',label[i-1])\n",
    "    \n",
    "#confusion matrix \n",
    "\n",
    "cm = confusion_matrix(true_labels, predictions)\n",
    "\n",
    "ax = sns.heatmap(cm, annot=True)\n",
    "\n",
    "ax.set_title('Confusion Matrix of our model')\n",
    "\n",
    "ax.set_xlabel('\\nPredicted Class')\n",
    "\n",
    "ax.set_ylabel('Actual Class ')\n",
    "\n",
    "ax.xaxis.set_ticklabels(set(true_labels))\n",
    "\n",
    "ax.yaxis.set_ticklabels(set(true_labels))\n",
    "\n",
    "plt.show()\n",
    "\n",
    "true_p=np.trace(cm)\n",
    "\n",
    "l_t=len(true_labels)\n",
    "\n",
    "print(f'From the test audio collection of {l_t}, our KNN model predicted {true_p} music genre correctly')"
   ]
  }
 ],
 "metadata": {
  "kernelspec": {
   "display_name": "Python 3 (ipykernel)",
   "language": "python",
   "name": "python3"
  },
  "language_info": {
   "codemirror_mode": {
    "name": "ipython",
    "version": 3
   },
   "file_extension": ".py",
   "mimetype": "text/x-python",
   "name": "python",
   "nbconvert_exporter": "python",
   "pygments_lexer": "ipython3",
   "version": "3.9.12"
  }
 },
 "nbformat": 4,
 "nbformat_minor": 5
}
